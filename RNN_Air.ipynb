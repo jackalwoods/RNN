{
 "cells": [
  {
   "cell_type": "code",
   "execution_count": 1,
   "metadata": {
    "collapsed": true
   },
   "outputs": [],
   "source": [
    "import pandas\n",
    "import matplotlib.pyplot as plt\n",
    "dataset = pandas.read_csv('international-airline-passengers.csv', usecols=[1], engine='python', skipfooter=3)\n",
    "plt.plot(dataset)\n",
    "plt.show()"
   ]
  },
  {
   "cell_type": "code",
   "execution_count": 2,
   "metadata": {
    "collapsed": false
   },
   "outputs": [
    {
     "name": "stderr",
     "output_type": "stream",
     "text": [
      "Using Theano backend.\n"
     ]
    }
   ],
   "source": [
    "import numpy\n",
    "import matplotlib.pyplot as plt\n",
    "import pandas\n",
    "import math\n",
    "from keras.models import Sequential\n",
    "from keras.layers import Dense\n",
    "from keras.layers import LSTM\n",
    "from sklearn.preprocessing import MinMaxScaler"
   ]
  },
  {
   "cell_type": "code",
   "execution_count": 3,
   "metadata": {
    "collapsed": true
   },
   "outputs": [],
   "source": [
    "# fix random seed for reproducibility\n",
    "numpy.random.seed(7)"
   ]
  },
  {
   "cell_type": "code",
   "execution_count": 4,
   "metadata": {
    "collapsed": true
   },
   "outputs": [],
   "source": [
    "# load the dataset\n",
    "dataframe = pandas.read_csv('international-airline-passengers.csv', usecols=[1], engine='python', skipfooter=3)\n",
    "dataset = dataframe.values\n",
    "dataset = dataset.astype('float32')"
   ]
  },
  {
   "cell_type": "code",
   "execution_count": 13,
   "metadata": {
    "collapsed": false
   },
   "outputs": [
    {
     "name": "stdout",
     "output_type": "stream",
     "text": [
      "[[ 0.01544401]\n",
      " [ 0.02702703]\n",
      " [ 0.05405405]\n",
      " [ 0.04826255]\n",
      " [ 0.03281853]\n",
      " [ 0.05984557]\n",
      " [ 0.08494207]\n",
      " [ 0.08494207]\n",
      " [ 0.06177607]\n",
      " [ 0.02895753]\n",
      " [ 0.        ]\n",
      " [ 0.02702703]\n",
      " [ 0.02123553]\n",
      " [ 0.04247104]\n",
      " [ 0.07142857]\n",
      " [ 0.05984557]\n",
      " [ 0.04054055]\n",
      " [ 0.08687258]\n",
      " [ 0.12741312]\n",
      " [ 0.12741312]\n",
      " [ 0.10424709]\n",
      " [ 0.05598456]\n",
      " [ 0.01930502]\n",
      " [ 0.06949806]\n",
      " [ 0.07915059]\n",
      " [ 0.08880308]\n",
      " [ 0.14285713]\n",
      " [ 0.11389962]\n",
      " [ 0.13127413]\n",
      " [ 0.14285713]\n",
      " [ 0.18339768]\n",
      " [ 0.18339768]\n",
      " [ 0.15444016]\n",
      " [ 0.11196911]\n",
      " [ 0.08108109]\n",
      " [ 0.1196911 ]\n",
      " [ 0.12934363]\n",
      " [ 0.14671814]\n",
      " [ 0.17181468]\n",
      " [ 0.14864865]\n",
      " [ 0.15250966]\n",
      " [ 0.22007722]\n",
      " [ 0.24324325]\n",
      " [ 0.26640925]\n",
      " [ 0.2027027 ]\n",
      " [ 0.16795367]\n",
      " [ 0.13127413]\n",
      " [ 0.17374519]\n",
      " [ 0.17760617]\n",
      " [ 0.17760617]\n",
      " [ 0.25482625]\n",
      " [ 0.25289574]\n",
      " [ 0.24131274]\n",
      " [ 0.26833975]\n",
      " [ 0.3088803 ]\n",
      " [ 0.32432434]\n",
      " [ 0.25675675]\n",
      " [ 0.20656371]\n",
      " [ 0.14671814]\n",
      " [ 0.18725869]\n",
      " [ 0.19305018]\n",
      " [ 0.16216215]\n",
      " [ 0.25289574]\n",
      " [ 0.23745173]\n",
      " [ 0.25096524]\n",
      " [ 0.3088803 ]\n",
      " [ 0.38223937]\n",
      " [ 0.36486486]\n",
      " [ 0.2992278 ]\n",
      " [ 0.24131274]\n",
      " [ 0.1911197 ]\n",
      " [ 0.24131274]\n",
      " [ 0.26640925]\n",
      " [ 0.24903473]\n",
      " [ 0.31467178]\n",
      " [ 0.31853279]\n",
      " [ 0.32046333]\n",
      " [ 0.40733591]\n",
      " [ 0.50193048]\n",
      " [ 0.46911195]\n",
      " [ 0.40154442]\n",
      " [ 0.32818535]\n",
      " [ 0.25675675]\n",
      " [ 0.33590731]\n",
      " [ 0.34749034]\n",
      " [ 0.33397684]\n",
      " [ 0.41119692]\n",
      " [ 0.4034749 ]\n",
      " [ 0.41312739]\n",
      " [ 0.52123547]\n",
      " [ 0.59652507]\n",
      " [ 0.58108103]\n",
      " [ 0.48455599]\n",
      " [ 0.38996139]\n",
      " [ 0.3223938 ]\n",
      " [ 0.38996139]\n",
      " [ 0.40733591]\n",
      " [ 0.3803089 ]\n",
      " [ 0.48648646]\n",
      " [ 0.47104248]\n",
      " [ 0.48455599]\n",
      " [ 0.61389959]\n",
      " [ 0.69691122]\n",
      " [ 0.70077217]\n",
      " [ 0.57915056]\n",
      " [ 0.46911195]\n",
      " [ 0.38803086]\n",
      " [ 0.44787642]\n",
      " [ 0.45559844]\n",
      " [ 0.41312739]\n",
      " [ 0.49806949]\n",
      " [ 0.47104248]\n",
      " [ 0.49999997]\n",
      " [ 0.63899612]\n",
      " [ 0.74710429]\n",
      " [ 0.7741313 ]\n",
      " [ 0.57915056]\n",
      " [ 0.49227801]\n",
      " [ 0.39768341]\n",
      " [ 0.44980696]\n",
      " [ 0.49420848]\n",
      " [ 0.45945945]\n",
      " [ 0.58301163]\n",
      " [ 0.56370652]\n",
      " [ 0.61003864]\n",
      " [ 0.71042466]\n",
      " [ 0.85714293]\n",
      " [ 0.87837839]\n",
      " [ 0.69305015]\n",
      " [ 0.5849421 ]\n",
      " [ 0.49806949]\n",
      " [ 0.58108103]\n",
      " [ 0.60424709]\n",
      " [ 0.55405402]\n",
      " [ 0.60810804]\n",
      " [ 0.6891892 ]\n",
      " [ 0.71042466]\n",
      " [ 0.83204639]\n",
      " [ 1.        ]\n",
      " [ 0.96911204]\n",
      " [ 0.77992272]\n",
      " [ 0.6891892 ]\n",
      " [ 0.55212355]\n",
      " [ 0.63320458]]\n"
     ]
    }
   ],
   "source": [
    "# normalize the dataset\n",
    "scaler = MinMaxScaler(feature_range=(0, 1))\n",
    "dataset = scaler.fit_transform(dataset)\n",
    "print(dataset)"
   ]
  },
  {
   "cell_type": "code",
   "execution_count": 15,
   "metadata": {
    "collapsed": false
   },
   "outputs": [
    {
     "name": "stdout",
     "output_type": "stream",
     "text": [
      "(96, 48)\n",
      "[ 0.01544401  0.02702703]\n",
      "0.0540541\n"
     ]
    }
   ],
   "source": [
    "# split into train and test sets\n",
    "train_size = int(len(dataset) * 0.67)\n",
    "test_size = len(dataset) - train_size\n",
    "train, test = dataset[0:train_size,:], dataset[train_size:len(dataset),:]\n",
    "print(len(train), len(test))\n",
    "print(dataset[0:2,0])\n",
    "print(dataset[2,0])"
   ]
  },
  {
   "cell_type": "code",
   "execution_count": 11,
   "metadata": {
    "collapsed": true
   },
   "outputs": [],
   "source": [
    "# convert an array of values into a dataset matrix\n",
    "def create_dataset(dataset, look_back=1):\n",
    "\tdataX, dataY = [], []\n",
    "\tfor i in range(len(dataset)-look_back-1):\n",
    "\t\ta = dataset[i:(i+look_back), 0]\n",
    "\t\tdataX.append(a)\n",
    "\t\tdataY.append(dataset[i + look_back, 0])\n",
    "\treturn numpy.array(dataX), numpy.array(dataY)"
   ]
  },
  {
   "cell_type": "code",
   "execution_count": 22,
   "metadata": {
    "collapsed": false
   },
   "outputs": [
    {
     "data": {
      "text/plain": [
       "1"
      ]
     },
     "execution_count": 22,
     "metadata": {},
     "output_type": "execute_result"
    }
   ],
   "source": [
    "# reshape into X=t and Y=t+1\n",
    "look_back = 1\n",
    "trainX, trainY = create_dataset(train, look_back)\n",
    "testX, testY = create_dataset(test, look_back)\n",
    "\n",
    "trainX.shape[1]"
   ]
  },
  {
   "cell_type": "code",
   "execution_count": 28,
   "metadata": {
    "collapsed": false
   },
   "outputs": [
    {
     "data": {
      "text/plain": [
       "(94, 1, 1)"
      ]
     },
     "execution_count": 28,
     "metadata": {},
     "output_type": "execute_result"
    }
   ],
   "source": [
    "# reshape input to be [samples, time steps, features]\n",
    "trainX = numpy.reshape(trainX, (trainX.shape[0], 1, trainX.shape[1]))\n",
    "testX = numpy.reshape(testX, (testX.shape[0], 1, testX.shape[1]))\n",
    "\n",
    "trainX.shape"
   ]
  },
  {
   "cell_type": "code",
   "execution_count": 29,
   "metadata": {
    "collapsed": false
   },
   "outputs": [
    {
     "name": "stdout",
     "output_type": "stream",
     "text": [
      "Epoch 1/100\n",
      "0s - loss: 0.0461\n",
      "Epoch 2/100\n",
      "0s - loss: 0.0227\n",
      "Epoch 3/100\n",
      "0s - loss: 0.0160\n",
      "Epoch 4/100\n",
      "0s - loss: 0.0143\n",
      "Epoch 5/100\n",
      "0s - loss: 0.0134\n",
      "Epoch 6/100\n",
      "0s - loss: 0.0126\n",
      "Epoch 7/100\n",
      "0s - loss: 0.0116\n",
      "Epoch 8/100\n",
      "0s - loss: 0.0106\n",
      "Epoch 9/100\n",
      "0s - loss: 0.0095\n",
      "Epoch 10/100\n",
      "0s - loss: 0.0083\n",
      "Epoch 11/100\n",
      "0s - loss: 0.0071\n",
      "Epoch 12/100\n",
      "0s - loss: 0.0059\n",
      "Epoch 13/100\n",
      "0s - loss: 0.0048\n",
      "Epoch 14/100\n",
      "0s - loss: 0.0039\n",
      "Epoch 15/100\n",
      "0s - loss: 0.0031\n",
      "Epoch 16/100\n",
      "0s - loss: 0.0026\n",
      "Epoch 17/100\n",
      "0s - loss: 0.0024\n",
      "Epoch 18/100\n",
      "0s - loss: 0.0022\n",
      "Epoch 19/100\n",
      "0s - loss: 0.0022\n",
      "Epoch 20/100\n",
      "0s - loss: 0.0021\n",
      "Epoch 21/100\n",
      "0s - loss: 0.0021\n",
      "Epoch 22/100\n",
      "0s - loss: 0.0021\n",
      "Epoch 23/100\n",
      "0s - loss: 0.0021\n",
      "Epoch 24/100\n",
      "0s - loss: 0.0021\n",
      "Epoch 25/100\n",
      "0s - loss: 0.0021\n",
      "Epoch 26/100\n",
      "0s - loss: 0.0021\n",
      "Epoch 27/100\n",
      "0s - loss: 0.0020\n",
      "Epoch 28/100\n",
      "0s - loss: 0.0020\n",
      "Epoch 29/100\n",
      "0s - loss: 0.0021\n",
      "Epoch 30/100\n",
      "0s - loss: 0.0021\n",
      "Epoch 31/100\n",
      "0s - loss: 0.0020\n",
      "Epoch 32/100\n",
      "0s - loss: 0.0020\n",
      "Epoch 33/100\n",
      "0s - loss: 0.0021\n",
      "Epoch 34/100\n",
      "0s - loss: 0.0020\n",
      "Epoch 35/100\n",
      "0s - loss: 0.0021\n",
      "Epoch 36/100\n",
      "0s - loss: 0.0021\n",
      "Epoch 37/100\n",
      "0s - loss: 0.0021\n",
      "Epoch 38/100\n",
      "0s - loss: 0.0021\n",
      "Epoch 39/100\n",
      "0s - loss: 0.0020\n",
      "Epoch 40/100\n",
      "0s - loss: 0.0021\n",
      "Epoch 41/100\n",
      "0s - loss: 0.0020\n",
      "Epoch 42/100\n",
      "0s - loss: 0.0020\n",
      "Epoch 43/100\n",
      "0s - loss: 0.0020\n",
      "Epoch 44/100\n",
      "0s - loss: 0.0020\n",
      "Epoch 45/100\n",
      "0s - loss: 0.0020\n",
      "Epoch 46/100\n",
      "0s - loss: 0.0021\n",
      "Epoch 47/100\n",
      "0s - loss: 0.0021\n",
      "Epoch 48/100\n",
      "0s - loss: 0.0021\n",
      "Epoch 49/100\n",
      "0s - loss: 0.0021\n",
      "Epoch 50/100\n",
      "0s - loss: 0.0021\n",
      "Epoch 51/100\n",
      "0s - loss: 0.0020\n",
      "Epoch 52/100\n",
      "0s - loss: 0.0020\n",
      "Epoch 53/100\n",
      "0s - loss: 0.0020\n",
      "Epoch 54/100\n",
      "0s - loss: 0.0021\n",
      "Epoch 55/100\n",
      "0s - loss: 0.0020\n",
      "Epoch 56/100\n",
      "0s - loss: 0.0021\n",
      "Epoch 57/100\n",
      "0s - loss: 0.0020\n",
      "Epoch 58/100\n",
      "0s - loss: 0.0020\n",
      "Epoch 59/100\n",
      "0s - loss: 0.0020\n",
      "Epoch 60/100\n",
      "0s - loss: 0.0020\n",
      "Epoch 61/100\n",
      "0s - loss: 0.0020\n",
      "Epoch 62/100\n",
      "0s - loss: 0.0021\n",
      "Epoch 63/100\n",
      "0s - loss: 0.0020\n",
      "Epoch 64/100\n",
      "0s - loss: 0.0021\n",
      "Epoch 65/100\n",
      "0s - loss: 0.0021\n",
      "Epoch 66/100\n",
      "0s - loss: 0.0021\n",
      "Epoch 67/100\n",
      "0s - loss: 0.0020\n",
      "Epoch 68/100\n",
      "0s - loss: 0.0021\n",
      "Epoch 69/100\n",
      "0s - loss: 0.0020\n",
      "Epoch 70/100\n",
      "0s - loss: 0.0020\n",
      "Epoch 71/100\n",
      "0s - loss: 0.0020\n",
      "Epoch 72/100\n",
      "0s - loss: 0.0020\n",
      "Epoch 73/100\n",
      "0s - loss: 0.0021\n",
      "Epoch 74/100\n",
      "0s - loss: 0.0021\n",
      "Epoch 75/100\n",
      "0s - loss: 0.0020\n",
      "Epoch 76/100\n",
      "0s - loss: 0.0022\n",
      "Epoch 77/100\n",
      "0s - loss: 0.0021\n",
      "Epoch 78/100\n",
      "0s - loss: 0.0020\n",
      "Epoch 79/100\n",
      "0s - loss: 0.0020\n",
      "Epoch 80/100\n",
      "0s - loss: 0.0020\n",
      "Epoch 81/100\n",
      "0s - loss: 0.0020\n",
      "Epoch 82/100\n",
      "0s - loss: 0.0020\n",
      "Epoch 83/100\n",
      "0s - loss: 0.0020\n",
      "Epoch 84/100\n",
      "0s - loss: 0.0021\n",
      "Epoch 85/100\n",
      "0s - loss: 0.0020\n",
      "Epoch 86/100\n",
      "0s - loss: 0.0020\n",
      "Epoch 87/100\n",
      "0s - loss: 0.0021\n",
      "Epoch 88/100\n",
      "0s - loss: 0.0020\n",
      "Epoch 89/100\n",
      "0s - loss: 0.0021\n",
      "Epoch 90/100\n",
      "0s - loss: 0.0020\n",
      "Epoch 91/100\n",
      "0s - loss: 0.0020\n",
      "Epoch 92/100\n",
      "0s - loss: 0.0020\n",
      "Epoch 93/100\n",
      "0s - loss: 0.0019\n",
      "Epoch 94/100\n",
      "0s - loss: 0.0020\n",
      "Epoch 95/100\n",
      "0s - loss: 0.0020\n",
      "Epoch 96/100\n",
      "0s - loss: 0.0020\n",
      "Epoch 97/100\n",
      "0s - loss: 0.0020\n",
      "Epoch 98/100\n",
      "0s - loss: 0.0020\n",
      "Epoch 99/100\n",
      "0s - loss: 0.0021\n",
      "Epoch 100/100\n",
      "0s - loss: 0.0021\n"
     ]
    },
    {
     "data": {
      "text/plain": [
       "<keras.callbacks.History at 0x7f7e3e1afb90>"
      ]
     },
     "execution_count": 29,
     "metadata": {},
     "output_type": "execute_result"
    }
   ],
   "source": [
    "# create and fit the LSTM network\n",
    "model = Sequential()\n",
    "model.add(LSTM(4, input_dim=look_back))\n",
    "model.add(Dense(1))\n",
    "model.compile(loss='mean_squared_error', optimizer='adam')\n",
    "model.fit(trainX, trainY, nb_epoch=100, batch_size=1, verbose=2)"
   ]
  },
  {
   "cell_type": "code",
   "execution_count": 33,
   "metadata": {
    "collapsed": false
   },
   "outputs": [
    {
     "name": "stdout",
     "output_type": "stream",
     "text": [
      "Train Score: 0.04 RMSE\n",
      "Test Score: 0.10 RMSE\n"
     ]
    }
   ],
   "source": [
    "# Estimate model performance\n",
    "trainScore = model.evaluate(trainX, trainY, verbose=0)\n",
    "trainScore = math.sqrt(trainScore)\n",
    "trainScore = scaler.inverse_transform(numpy.array([[trainScore]]))\n",
    "print('Train Score: %.2f RMSE' % (trainScore))\n",
    "\n",
    "testScore = model.evaluate(testX, testY, verbose=0)\n",
    "testScore = math.sqrt(testScore)\n",
    "testScore = scaler.inverse_transform(numpy.array([[testScore]]))\n",
    "print('Test Score: %.2f RMSE' % (testScore))"
   ]
  },
  {
   "cell_type": "markdown",
   "metadata": {},
   "source": [
    "Finally, we can generate predictions using the model for both the train and test dataset to get a visual indication of the skill of the model.\n",
    "\n",
    "Because of how the dataset was prepared, we must shift the predictions so that they aline on the x-axis with the original dataset. Once prepared, the data is plotted, showing the original dataset in blue, the predictions for the train dataset in green and the predictions on the unseen test dataset in red."
   ]
  },
  {
   "cell_type": "code",
   "execution_count": null,
   "metadata": {
    "collapsed": true
   },
   "outputs": [],
   "source": [
    "\n",
    "# generate predictions for training\n",
    "trainPredict = model.predict(trainX)\n",
    "testPredict = model.predict(testX)\n",
    "\n",
    "# shift train predictions for plotting\n",
    "trainPredictPlot = numpy.empty_like(dataset)\n",
    "trainPredictPlot[:, :] = numpy.nan\n",
    "trainPredictPlot[look_back:len(trainPredict)+look_back, :] = trainPredict\n",
    "\n",
    "# shift test predictions for plotting\n",
    "testPredictPlot = numpy.empty_like(dataset)\n",
    "testPredictPlot[:, :] = numpy.nan\n",
    "testPredictPlot[len(trainPredict)+(look_back*2)+1:len(dataset)-1, :] = testPredict\n",
    "\n",
    "# plot baseline and predictions\n",
    "plt.plot(dataset)\n",
    "plt.plot(trainPredictPlot)\n",
    "plt.plot(testPredictPlot)\n",
    "plt.show()"
   ]
  },
  {
   "cell_type": "code",
   "execution_count": null,
   "metadata": {
    "collapsed": true
   },
   "outputs": [],
   "source": []
  }
 ],
 "metadata": {
  "kernelspec": {
   "display_name": "Python 2",
   "language": "python",
   "name": "python2"
  },
  "language_info": {
   "codemirror_mode": {
    "name": "ipython",
    "version": 2
   },
   "file_extension": ".py",
   "mimetype": "text/x-python",
   "name": "python",
   "nbconvert_exporter": "python",
   "pygments_lexer": "ipython2",
   "version": "2.7.6"
  }
 },
 "nbformat": 4,
 "nbformat_minor": 0
}
